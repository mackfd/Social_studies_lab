{
 "cells": [
  {
   "cell_type": "code",
   "execution_count": null,
   "id": "1805578c",
   "metadata": {},
   "outputs": [],
   "source": [
    "import numpy as np\n",
    "import pandas as pd\n",
    "import urllib.request, urllib.parse,urllib.error\n",
    "from bs4 import BeautifulSoup\n",
    "import ssl\n",
    "import re\n",
    "import time\n",
    "import random"
   ]
  },
  {
   "cell_type": "code",
   "execution_count": null,
   "id": "ef0bf302",
   "metadata": {},
   "outputs": [],
   "source": [
    "ctx = ssl.create_default_context()\n",
    "ctx.check_hostname = False\n",
    "ctx.verify_mode = ssl.CERT_NONE"
   ]
  },
  {
   "cell_type": "code",
   "execution_count": null,
   "id": "c8d36138",
   "metadata": {},
   "outputs": [],
   "source": [
    "# link to parse list of games \n",
    "# overall we have 1265 pages \n",
    "links_of_games = []\n",
    "for j in range(1,948):\n",
    "    url = 'https://boardgamegeek.com/browse/boardgame/page/' + str(j)\n",
    "    links_of_games.append(url)\n",
    "print(links_of_games[946])"
   ]
  },
  {
   "cell_type": "code",
   "execution_count": null,
   "id": "d409575f",
   "metadata": {},
   "outputs": [],
   "source": [
    "# creating lists to store data\n",
    "game_name = []\n",
    "game_id = []\n",
    "game_url =[]\n",
    "\n",
    "# iterating over slice of generated pages \n",
    "for url in links_of_games[0:100]:\n",
    "    # waiting some seconds before opening a new page \n",
    "    # doing this in order to not ddos website \n",
    "    #wait_secs = random.randint(1,5)\n",
    "    # https://boardgamegeek.com/robots.txt in Crawl-delay = 5\n",
    "    time.sleep(5)\n",
    "    html = urllib.request.urlopen(url, context=ctx).read()\n",
    "    soup = BeautifulSoup(html, 'html.parser')\n",
    "    tags = soup('a')\n",
    "    for tag in tags:\n",
    "        if tag.get('class') == ['primary']:\n",
    "            #print('TAG:', tag)\n",
    "            game_name.append(tag.next_element)\n",
    "            game_id.append(tag.get('href', None).split('/')[2])\n",
    "            game_url.append(tag.get('href', None))"
   ]
  },
  {
   "cell_type": "code",
   "execution_count": null,
   "id": "c34d72dc",
   "metadata": {},
   "outputs": [],
   "source": [
    "# dictionary of lists \n",
    "dict = {'name': game_name, 'id': game_id, 'url': game_url} \n",
    "    \n",
    "games = pd.DataFrame(dict)"
   ]
  },
  {
   "cell_type": "code",
   "execution_count": null,
   "id": "660dcb13",
   "metadata": {},
   "outputs": [],
   "source": [
    "games['full_url'] = 'https://boardgamegeek.com' + games['url'] + '/ratings'"
   ]
  },
  {
   "cell_type": "code",
   "execution_count": null,
   "id": "f3d4753f",
   "metadata": {},
   "outputs": [],
   "source": [
    "games_100_pages =  games.copy(deep = True)"
   ]
  },
  {
   "cell_type": "code",
   "execution_count": null,
   "id": "57e5376a",
   "metadata": {},
   "outputs": [],
   "source": [
    "games_100_pages.to_csv(r'./games_100_pages.csv', sep='\\t', encoding='utf-8', header='true')"
   ]
  },
  {
   "cell_type": "code",
   "execution_count": null,
   "id": "3733885e",
   "metadata": {},
   "outputs": [],
   "source": []
  }
 ],
 "metadata": {
  "kernelspec": {
   "display_name": "Python 3",
   "language": "python",
   "name": "python3"
  },
  "language_info": {
   "codemirror_mode": {
    "name": "ipython",
    "version": 3
   },
   "file_extension": ".py",
   "mimetype": "text/x-python",
   "name": "python",
   "nbconvert_exporter": "python",
   "pygments_lexer": "ipython3",
   "version": "3.9.5"
  }
 },
 "nbformat": 4,
 "nbformat_minor": 5
}
