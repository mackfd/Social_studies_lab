{
 "cells": [
  {
   "cell_type": "code",
   "execution_count": 1,
   "id": "9d3e72e9",
   "metadata": {},
   "outputs": [],
   "source": [
    "import os\n",
    "import pandas as pd \n",
    "import matplotlib.pyplot as plt\n",
    "import seaborn as sns\n",
    "import numpy as np\n",
    "from scipy import stats as st\n",
    "\n",
    "from numpy import mean\n",
    "from numpy import var\n",
    "from math import sqrt"
   ]
  },
  {
   "cell_type": "code",
   "execution_count": 2,
   "id": "008f6bdb",
   "metadata": {},
   "outputs": [],
   "source": [
    "#all_rating_processed = pd.read_csv(r'C:/Users/Armit/uni_pass/Scripts/Project/all_rating_processed.csv', sep = '\\t', encoding='utf-8')\n",
    "# we sinchronise dictionaries so new processed file must be used\n",
    "all_rating_processed = pd.read_csv(r'C:/Users/Armit/uni_pass/Scripts/Project/all_rating_processed_adj_dict.csv', sep = '\\t', encoding='utf-8')\n",
    "\n"
   ]
  },
  {
   "cell_type": "code",
   "execution_count": 3,
   "id": "caf2f8d4",
   "metadata": {},
   "outputs": [
    {
     "data": {
      "text/plain": [
       "914172"
      ]
     },
     "execution_count": 3,
     "metadata": {},
     "output_type": "execute_result"
    }
   ],
   "source": [
    "len(all_rating_processed)"
   ]
  },
  {
   "cell_type": "code",
   "execution_count": 4,
   "id": "65914ecc",
   "metadata": {},
   "outputs": [
    {
     "data": {
      "text/plain": [
       "56"
      ]
     },
     "execution_count": 4,
     "metadata": {},
     "output_type": "execute_result"
    }
   ],
   "source": [
    "len(all_rating_processed['Country'].unique())"
   ]
  },
  {
   "cell_type": "code",
   "execution_count": 5,
   "id": "b6ee3874",
   "metadata": {},
   "outputs": [
    {
     "data": {
      "text/plain": [
       "array(['Undefined', 'UnitedStates', 'France', 'Poland', 'Belgium',\n",
       "       'UnitedKingdom', 'Sweden', 'Finland', 'Austria', 'Norway',\n",
       "       'Germany', 'Netherlands', 'Canada', 'Switzerland', 'Italy',\n",
       "       'Russia', 'Spain', 'Portugal', 'Lithuania', 'Denmark', 'England',\n",
       "       'Scotland', 'Ireland', 'Hungary', 'Greece', 'Wales', 'Bulgaria',\n",
       "       'Croatia', 'Belarus', 'Malta', 'Serbia', 'Slovakia', 'Ukraine',\n",
       "       'Romania', 'Estonia', 'Luxembourg', 'CzechRepublic', 'Iceland',\n",
       "       'Turkey', 'Slovenia', 'Latvia', 'SanMarino', 'Georgia', 'Andorra',\n",
       "       'Moldova', 'IsleofMan', 'Cyprus', 'Macedonia',\n",
       "       'BosniaandHerzegovina', 'Other-EasternEurope', 'VaticanCity',\n",
       "       'FaroeIslands', 'Monaco', 'Greenland', 'Montenegro', 'Albania'],\n",
       "      dtype=object)"
      ]
     },
     "execution_count": 5,
     "metadata": {},
     "output_type": "execute_result"
    }
   ],
   "source": [
    "all_rating_processed['Country'].unique()"
   ]
  },
  {
   "cell_type": "code",
   "execution_count": 6,
   "id": "35dc31f8",
   "metadata": {},
   "outputs": [
    {
     "data": {
      "text/plain": [
       "array(['Undefined', 'NorthAmerica', 'Europe'], dtype=object)"
      ]
     },
     "execution_count": 6,
     "metadata": {},
     "output_type": "execute_result"
    }
   ],
   "source": [
    "all_rating_processed['Continent'].unique()"
   ]
  },
  {
   "cell_type": "markdown",
   "id": "4d3e5727",
   "metadata": {},
   "source": [
    "As an input we have data about 37 counties + Undefined, all of which are mapped into Continents (NorthAmerica, Undefined and Europe)"
   ]
  },
  {
   "cell_type": "code",
   "execution_count": 7,
   "id": "b6cc94bc",
   "metadata": {},
   "outputs": [
    {
     "data": {
      "text/html": [
       "<div>\n",
       "<style scoped>\n",
       "    .dataframe tbody tr th:only-of-type {\n",
       "        vertical-align: middle;\n",
       "    }\n",
       "\n",
       "    .dataframe tbody tr th {\n",
       "        vertical-align: top;\n",
       "    }\n",
       "\n",
       "    .dataframe thead th {\n",
       "        text-align: right;\n",
       "    }\n",
       "</style>\n",
       "<table border=\"1\" class=\"dataframe\">\n",
       "  <thead>\n",
       "    <tr style=\"text-align: right;\">\n",
       "      <th></th>\n",
       "      <th>Unnamed: 0</th>\n",
       "      <th>Game_name</th>\n",
       "      <th>Gamer</th>\n",
       "      <th>Date</th>\n",
       "      <th>Rating</th>\n",
       "      <th>Location</th>\n",
       "      <th>file</th>\n",
       "      <th>Country</th>\n",
       "      <th>Continent</th>\n",
       "    </tr>\n",
       "  </thead>\n",
       "  <tbody>\n",
       "    <tr>\n",
       "      <th>0</th>\n",
       "      <td>0</td>\n",
       "      <td>Gloomhaven</td>\n",
       "      <td>guile678</td>\n",
       "      <td>Mar2020</td>\n",
       "      <td>8.70000</td>\n",
       "      <td>Undefined</td>\n",
       "      <td>0_174430_20_pages.csv</td>\n",
       "      <td>Undefined</td>\n",
       "      <td>Undefined</td>\n",
       "    </tr>\n",
       "    <tr>\n",
       "      <th>1</th>\n",
       "      <td>1</td>\n",
       "      <td>Gloomhaven</td>\n",
       "      <td>purplephoenixgames</td>\n",
       "      <td>Mar2020</td>\n",
       "      <td>-0.00001</td>\n",
       "      <td>Milan,Illinois·UnitedStates</td>\n",
       "      <td>0_174430_20_pages.csv</td>\n",
       "      <td>UnitedStates</td>\n",
       "      <td>NorthAmerica</td>\n",
       "    </tr>\n",
       "    <tr>\n",
       "      <th>2</th>\n",
       "      <td>2</td>\n",
       "      <td>Gloomhaven</td>\n",
       "      <td>oneover</td>\n",
       "      <td>Mar2020</td>\n",
       "      <td>8.00000</td>\n",
       "      <td>Undefined</td>\n",
       "      <td>0_174430_20_pages.csv</td>\n",
       "      <td>Undefined</td>\n",
       "      <td>Undefined</td>\n",
       "    </tr>\n",
       "  </tbody>\n",
       "</table>\n",
       "</div>"
      ],
      "text/plain": [
       "   Unnamed: 0   Game_name               Gamer     Date   Rating  \\\n",
       "0           0  Gloomhaven            guile678  Mar2020  8.70000   \n",
       "1           1  Gloomhaven  purplephoenixgames  Mar2020 -0.00001   \n",
       "2           2  Gloomhaven             oneover  Mar2020  8.00000   \n",
       "\n",
       "                      Location                   file       Country  \\\n",
       "0                    Undefined  0_174430_20_pages.csv     Undefined   \n",
       "1  Milan,Illinois·UnitedStates  0_174430_20_pages.csv  UnitedStates   \n",
       "2                    Undefined  0_174430_20_pages.csv     Undefined   \n",
       "\n",
       "      Continent  \n",
       "0     Undefined  \n",
       "1  NorthAmerica  \n",
       "2     Undefined  "
      ]
     },
     "execution_count": 7,
     "metadata": {},
     "output_type": "execute_result"
    }
   ],
   "source": [
    "all_rating_processed.head(3)"
   ]
  },
  {
   "cell_type": "code",
   "execution_count": 8,
   "id": "d94cfb44",
   "metadata": {},
   "outputs": [],
   "source": [
    "all_rating_processed.drop(['Unnamed: 0','Location','file'], axis=1, inplace = True)"
   ]
  },
  {
   "cell_type": "markdown",
   "id": "359cb4c9",
   "metadata": {},
   "source": [
    "## Distribution"
   ]
  },
  {
   "cell_type": "markdown",
   "id": "402274f1",
   "metadata": {},
   "source": [
    "### Histograms "
   ]
  },
  {
   "cell_type": "code",
   "execution_count": 9,
   "id": "a09e22bc",
   "metadata": {},
   "outputs": [
    {
     "data": {
      "text/html": [
       "<div>\n",
       "<style scoped>\n",
       "    .dataframe tbody tr th:only-of-type {\n",
       "        vertical-align: middle;\n",
       "    }\n",
       "\n",
       "    .dataframe tbody tr th {\n",
       "        vertical-align: top;\n",
       "    }\n",
       "\n",
       "    .dataframe thead th {\n",
       "        text-align: right;\n",
       "    }\n",
       "</style>\n",
       "<table border=\"1\" class=\"dataframe\">\n",
       "  <thead>\n",
       "    <tr style=\"text-align: right;\">\n",
       "      <th></th>\n",
       "      <th>Rating</th>\n",
       "    </tr>\n",
       "  </thead>\n",
       "  <tbody>\n",
       "    <tr>\n",
       "      <th>count</th>\n",
       "      <td>914172.000000</td>\n",
       "    </tr>\n",
       "    <tr>\n",
       "      <th>mean</th>\n",
       "      <td>6.971864</td>\n",
       "    </tr>\n",
       "    <tr>\n",
       "      <th>std</th>\n",
       "      <td>2.325511</td>\n",
       "    </tr>\n",
       "    <tr>\n",
       "      <th>min</th>\n",
       "      <td>-0.000010</td>\n",
       "    </tr>\n",
       "    <tr>\n",
       "      <th>25%</th>\n",
       "      <td>6.500000</td>\n",
       "    </tr>\n",
       "    <tr>\n",
       "      <th>50%</th>\n",
       "      <td>7.500000</td>\n",
       "    </tr>\n",
       "    <tr>\n",
       "      <th>75%</th>\n",
       "      <td>8.000000</td>\n",
       "    </tr>\n",
       "    <tr>\n",
       "      <th>max</th>\n",
       "      <td>10.000000</td>\n",
       "    </tr>\n",
       "  </tbody>\n",
       "</table>\n",
       "</div>"
      ],
      "text/plain": [
       "              Rating\n",
       "count  914172.000000\n",
       "mean        6.971864\n",
       "std         2.325511\n",
       "min        -0.000010\n",
       "25%         6.500000\n",
       "50%         7.500000\n",
       "75%         8.000000\n",
       "max        10.000000"
      ]
     },
     "execution_count": 9,
     "metadata": {},
     "output_type": "execute_result"
    }
   ],
   "source": [
    "all_rating_processed.describe()"
   ]
  },
  {
   "cell_type": "code",
   "execution_count": 10,
   "id": "c41e4303",
   "metadata": {},
   "outputs": [
    {
     "data": {
      "text/plain": [
       "<AxesSubplot:>"
      ]
     },
     "execution_count": 10,
     "metadata": {},
     "output_type": "execute_result"
    },
    {
     "data": {
      "image/png": "[encoded data removed]",
      "text/plain": [
       "<Figure size 432x288 with 1 Axes>"
      ]
     },
     "metadata": {
      "needs_background": "light"
     },
     "output_type": "display_data"
    }
   ],
   "source": [
    "all_rating_processed['Rating'].hist(bins=15, alpha=0.5)"
   ]
  },
  {
   "cell_type": "markdown",
   "id": "2153d058",
   "metadata": {},
   "source": [
    "We have a spike around 0 presumably caused by not given rating, which we marked as -0.00001.\n",
    "Let's filter it out "
   ]
  },
  {
   "cell_type": "code",
   "execution_count": 11,
   "id": "af15e694",
   "metadata": {},
   "outputs": [
    {
     "data": {
      "text/plain": [
       "<AxesSubplot:>"
      ]
     },
     "execution_count": 11,
     "metadata": {},
     "output_type": "execute_result"
    },
    {
     "data": {
      "image/png": "[encoded data removed]",
      "text/plain": [
       "<Figure size 432x288 with 1 Axes>"
      ]
     },
     "metadata": {
      "needs_background": "light"
     },
     "output_type": "display_data"
    }
   ],
   "source": [
    "all_rating_processed[all_rating_processed['Rating'] >= 0]['Rating'].hist(bins=15, alpha=0.5)"
   ]
  },
  {
   "cell_type": "markdown",
   "id": "b7b3df3c",
   "metadata": {},
   "source": [
    "Assumption was correct. Finally for 3 Continents we see that data is left-skewed. "
   ]
  },
  {
   "cell_type": "code",
   "execution_count": 12,
   "id": "3af5c699",
   "metadata": {},
   "outputs": [],
   "source": [
    "NA_data = all_rating_processed[all_rating_processed['Continent'] =='NorthAmerica']\n",
    "Undef_data = all_rating_processed[all_rating_processed['Continent'] =='Undefined']\n",
    "EU_data = all_rating_processed[all_rating_processed['Continent'] =='Europe']"
   ]
  },
  {
   "cell_type": "code",
   "execution_count": 13,
   "id": "8a2618b7",
   "metadata": {},
   "outputs": [
    {
     "data": {
      "image/png": "[encoded data removed]",
      "text/plain": [
       "<Figure size 576x432 with 1 Axes>"
      ]
     },
     "metadata": {
      "needs_background": "light"
     },
     "output_type": "display_data"
    }
   ],
   "source": [
    "plt.figure(figsize=(8,6))\n",
    "plt.hist(NA_data['Rating'], bins=20, label='North America', alpha=0.4)\n",
    "plt.hist(Undef_data['Rating'], bins=20,  label='Undefined', alpha=0.5)\n",
    "plt.hist(EU_data['Rating'], bins=20,  label='Europe', alpha=0.5)\n",
    "plt.title(\"Rating distribution of continents\")\n",
    "plt.xlabel('Rating')\n",
    "plt.ylabel('Frequency')\n",
    "plt.legend(prop ={'size': 15}) \n",
    "plt.show()"
   ]
  },
  {
   "cell_type": "markdown",
   "id": "edb27adb",
   "metadata": {},
   "source": [
    "### Boxplot"
   ]
  },
  {
   "cell_type": "code",
   "execution_count": 14,
   "id": "be2a0560",
   "metadata": {},
   "outputs": [
    {
     "data": {
      "image/png": "[encoded data removed]",
      "text/plain": [
       "<Figure size 720x432 with 2 Axes>"
      ]
     },
     "metadata": {
      "needs_background": "light"
     },
     "output_type": "display_data"
    }
   ],
   "source": [
    "fig, ax = plt.subplots(1, 2, figsize=(10, 6), sharex=True, sharey=True)\n",
    "\n",
    "sns.boxplot(x='Continent', y= 'Rating', \n",
    "            data=all_rating_processed, \n",
    "            showfliers=False, \n",
    "            showmeans=True, \n",
    "            meanprops={\"marker\":\"s\",\"markerfacecolor\":\"white\", \"markeredgecolor\":\"blue\"},\n",
    "            ax=ax[0])\n",
    "ax[0].set_title('Boxplot distribution with undefined rating')\n",
    "\n",
    "sns.boxplot(x='Continent', y= 'Rating', \n",
    "            data=all_rating_processed[all_rating_processed['Rating'] >= 0], \n",
    "            showfliers=False, \n",
    "            showmeans=True, \n",
    "            meanprops={\"marker\":\"s\",\"markerfacecolor\":\"white\", \"markeredgecolor\":\"blue\"},\n",
    "            ax=ax[1])\n",
    "ax[1].set_title('Boxplot distribution without undefined rating')\n",
    "\n",
    "plt.show()"
   ]
  },
  {
   "cell_type": "code",
   "execution_count": 15,
   "id": "ea16b81d",
   "metadata": {},
   "outputs": [
    {
     "data": {
      "image/png": "[encoded data removed]",
      "text/plain": [
       "<Figure size 432x288 with 1 Axes>"
      ]
     },
     "metadata": {
      "needs_background": "light"
     },
     "output_type": "display_data"
    }
   ],
   "source": [
    "sns.boxplot(x = 'Continent', y = 'Rating', \n",
    "            data = all_rating_processed[(all_rating_processed['Rating'] >= 0) & \n",
    "                                      (all_rating_processed['Continent'].isin(['NorthAmerica','Europe']))], \n",
    "            showfliers=False, \n",
    "            showmeans=True, \n",
    "            meanprops={\"marker\":\"s\",\"markerfacecolor\":\"white\", \"markeredgecolor\":\"blue\"})\n",
    "\n",
    "\n",
    "plt.show()"
   ]
  },
  {
   "cell_type": "code",
   "execution_count": null,
   "id": "0ea0e622",
   "metadata": {},
   "outputs": [],
   "source": []
  },
  {
   "cell_type": "code",
   "execution_count": 16,
   "id": "e227909a",
   "metadata": {},
   "outputs": [],
   "source": [
    "avg_ratinng = all_rating_processed[(all_rating_processed['Rating'] >= 0) & \n",
    "                          (all_rating_processed['Continent'].isin(['NorthAmerica','Europe']))].groupby(['Continent']).mean()"
   ]
  },
  {
   "cell_type": "code",
   "execution_count": 17,
   "id": "1cf8d8d7",
   "metadata": {},
   "outputs": [],
   "source": [
    "avg_ratinng.reset_index(inplace=True)"
   ]
  },
  {
   "cell_type": "code",
   "execution_count": 18,
   "id": "4cc16f89",
   "metadata": {},
   "outputs": [
    {
     "data": {
      "text/plain": [
       "0   NaN\n",
       "1   NaN\n",
       "Name: Rating, dtype: float64"
      ]
     },
     "execution_count": 18,
     "metadata": {},
     "output_type": "execute_result"
    }
   ],
   "source": [
    "avg_ratinng[avg_ratinng['Continent'] == 'Europe']['Rating'] - avg_ratinng[avg_ratinng['Continent'] == 'NorthAmerica']['Rating']"
   ]
  },
  {
   "cell_type": "code",
   "execution_count": 19,
   "id": "f03a76d1",
   "metadata": {},
   "outputs": [
    {
     "data": {
      "text/html": [
       "<div>\n",
       "<style scoped>\n",
       "    .dataframe tbody tr th:only-of-type {\n",
       "        vertical-align: middle;\n",
       "    }\n",
       "\n",
       "    .dataframe tbody tr th {\n",
       "        vertical-align: top;\n",
       "    }\n",
       "\n",
       "    .dataframe thead th {\n",
       "        text-align: right;\n",
       "    }\n",
       "</style>\n",
       "<table border=\"1\" class=\"dataframe\">\n",
       "  <thead>\n",
       "    <tr style=\"text-align: right;\">\n",
       "      <th></th>\n",
       "      <th>Rating</th>\n",
       "    </tr>\n",
       "    <tr>\n",
       "      <th>Continent</th>\n",
       "      <th></th>\n",
       "    </tr>\n",
       "  </thead>\n",
       "  <tbody>\n",
       "    <tr>\n",
       "      <th>Europe</th>\n",
       "      <td>NaN</td>\n",
       "    </tr>\n",
       "    <tr>\n",
       "      <th>NorthAmerica</th>\n",
       "      <td>-0.03026</td>\n",
       "    </tr>\n",
       "  </tbody>\n",
       "</table>\n",
       "</div>"
      ],
      "text/plain": [
       "               Rating\n",
       "Continent            \n",
       "Europe            NaN\n",
       "NorthAmerica -0.03026"
      ]
     },
     "execution_count": 19,
     "metadata": {},
     "output_type": "execute_result"
    }
   ],
   "source": [
    "avg_ratinng.set_index('Continent').diff() "
   ]
  },
  {
   "cell_type": "code",
   "execution_count": 20,
   "id": "d86be59d",
   "metadata": {},
   "outputs": [
    {
     "data": {
      "text/html": [
       "<div>\n",
       "<style scoped>\n",
       "    .dataframe tbody tr th:only-of-type {\n",
       "        vertical-align: middle;\n",
       "    }\n",
       "\n",
       "    .dataframe tbody tr th {\n",
       "        vertical-align: top;\n",
       "    }\n",
       "\n",
       "    .dataframe thead th {\n",
       "        text-align: right;\n",
       "    }\n",
       "</style>\n",
       "<table border=\"1\" class=\"dataframe\">\n",
       "  <thead>\n",
       "    <tr style=\"text-align: right;\">\n",
       "      <th></th>\n",
       "      <th>Continent</th>\n",
       "      <th>Rating</th>\n",
       "    </tr>\n",
       "  </thead>\n",
       "  <tbody>\n",
       "    <tr>\n",
       "      <th>0</th>\n",
       "      <td>Europe</td>\n",
       "      <td>7.478705</td>\n",
       "    </tr>\n",
       "    <tr>\n",
       "      <th>1</th>\n",
       "      <td>NorthAmerica</td>\n",
       "      <td>7.448446</td>\n",
       "    </tr>\n",
       "  </tbody>\n",
       "</table>\n",
       "</div>"
      ],
      "text/plain": [
       "      Continent    Rating\n",
       "0        Europe  7.478705\n",
       "1  NorthAmerica  7.448446"
      ]
     },
     "execution_count": 20,
     "metadata": {},
     "output_type": "execute_result"
    }
   ],
   "source": [
    "avg_ratinng"
   ]
  },
  {
   "cell_type": "code",
   "execution_count": 21,
   "id": "d4da0c08",
   "metadata": {},
   "outputs": [
    {
     "data": {
      "text/plain": [
       "0.03029999999999955"
      ]
     },
     "execution_count": 21,
     "metadata": {},
     "output_type": "execute_result"
    }
   ],
   "source": [
    "7.4787 - 7.4484"
   ]
  },
  {
   "cell_type": "markdown",
   "id": "fac65a04",
   "metadata": {},
   "source": [
    "## Hypothesis"
   ]
  },
  {
   "cell_type": "markdown",
   "id": "3d2f3d12",
   "metadata": {},
   "source": [
    "Formulate H0 (important: we formulate H0 in a way that there is no differece, that is why it is zero hypothesis).\n",
    "\n",
    "**H₀** for our case:\n",
    "\n",
    "**Average defined gamers' rating between Europe and North Americe has no difference.** \n",
    "\n",
    "The **alternative hypothesis H₁** will be:\n",
    "\n",
    "**Average defined gamers' rating between Europe and North Americe has difference.**\n",
    "\n",
    "A significance level of α(alpha) = 0.05, in other words we state that 100% of confidence in hypothesis test is difficult to reach, so that with declared significance level (5%) we state that risk of false positive difference discovcery is 5%.\n",
    "\n",
    "As our data is skewed, we cannot perform Student's test (ttest) , we should use non-parametric test (a.k.a distribution free methods) for two (unpaired) samples MannWhitney test (equivalent to Wilcoxon test).\n",
    "P.S. Unpaired means that both samples consist of distinct test subjects and we assume that gamers do not use two different locations (countries/continets) to provide feedback. "
   ]
  },
  {
   "cell_type": "code",
   "execution_count": 22,
   "id": "321924e8",
   "metadata": {},
   "outputs": [],
   "source": [
    "NA_data_wt_undef = NA_data[NA_data['Rating'] >=0]\n",
    "EU_data_wt_undef = EU_data[EU_data['Rating'] >=0]"
   ]
  },
  {
   "cell_type": "code",
   "execution_count": 23,
   "id": "e2f24a94",
   "metadata": {},
   "outputs": [
    {
     "data": {
      "image/png": "[encoded data removed]",
      "text/plain": [
       "<Figure size 432x288 with 1 Axes>"
      ]
     },
     "metadata": {
      "needs_background": "light"
     },
     "output_type": "display_data"
    }
   ],
   "source": [
    "NA_data_wt_undef.hist()\n",
    "#plt.title(\"Rating distribution NorthAmerica\")\n",
    "plt.title(\"\")\n",
    "plt.xlabel('Rating')\n",
    "plt.ylabel('Frequency')\n",
    "#plt.legend(prop ={'size': 15}) \n",
    "plt.show()"
   ]
  },
  {
   "cell_type": "code",
   "execution_count": 24,
   "id": "74cfa0dd",
   "metadata": {},
   "outputs": [
    {
     "data": {
      "image/png": "[encoded data removed]",
      "text/plain": [
       "<Figure size 432x288 with 1 Axes>"
      ]
     },
     "metadata": {
      "needs_background": "light"
     },
     "output_type": "display_data"
    }
   ],
   "source": [
    "EU_data_wt_undef.hist()\n",
    "#plt.title(\"Rating distribution Europe\")\n",
    "plt.title(\"\")\n",
    "plt.xlabel('Rating')\n",
    "plt.ylabel('Frequency')\n",
    "plt.show()"
   ]
  },
  {
   "cell_type": "code",
   "execution_count": 25,
   "id": "1f635d6a",
   "metadata": {},
   "outputs": [
    {
     "name": "stdout",
     "output_type": "stream",
     "text": [
      "p-value: 5.648866776980333e-11\n",
      "Reject H₀\n"
     ]
    }
   ],
   "source": [
    "alpha = 0.05\n",
    "\n",
    "results = st.mannwhitneyu(\n",
    "    NA_data_wt_undef['Rating'], \n",
    "    EU_data_wt_undef['Rating'])\n",
    "\n",
    "print('p-value:', results.pvalue)\n",
    "\n",
    "if (results.pvalue < alpha):\n",
    "    print(\"Reject H₀\")\n",
    "else:\n",
    "    print(\"Accept H₀\")"
   ]
  },
  {
   "cell_type": "code",
   "execution_count": 26,
   "id": "c8b67df2",
   "metadata": {},
   "outputs": [],
   "source": [
    "def stat_calc(d1, d2):\n",
    "    #mean_diff = d1.mean() - d2.mean()\n",
    "    #results = st.mannwhitneyu(d1,d2)\n",
    "    \n",
    "    # calculate the size of samples\n",
    "    n1, n2 = len(d1), len(d2)\n",
    "    # calculate the variance of the samples\n",
    "    s1, s2 = var(d1, ddof=1), var(d2, ddof=1)\n",
    "    # calculate the pooled standard deviation\n",
    "    s = sqrt(((n1 - 1) * s1 + (n2 - 1) * s2) / (n1 + n2 - 2))\n",
    "    # calculate the means of the samples\n",
    "    u1, u2 = mean(d1), mean(d2)\n",
    "    effect_size = (u1 - u2) / s\n",
    "    # calculate the effect size\n",
    "    return effect_size"
   ]
  },
  {
   "cell_type": "code",
   "execution_count": 27,
   "id": "92c8f326",
   "metadata": {},
   "outputs": [
    {
     "data": {
      "text/plain": [
       "-0.02181012986785638"
      ]
     },
     "execution_count": 27,
     "metadata": {},
     "output_type": "execute_result"
    }
   ],
   "source": [
    "stat_calc(NA_data_wt_undef['Rating'],EU_data_wt_undef['Rating'])"
   ]
  },
  {
   "cell_type": "code",
   "execution_count": null,
   "id": "7c4046e9",
   "metadata": {},
   "outputs": [],
   "source": []
  }
 ],
 "metadata": {
  "kernelspec": {
   "display_name": "Python 3",
   "language": "python",
   "name": "python3"
  },
  "language_info": {
   "codemirror_mode": {
    "name": "ipython",
    "version": 3
   },
   "file_extension": ".py",
   "mimetype": "text/x-python",
   "name": "python",
   "nbconvert_exporter": "python",
   "pygments_lexer": "ipython3",
   "version": "3.9.5"
  }
 },
 "nbformat": 4,
 "nbformat_minor": 5
}
