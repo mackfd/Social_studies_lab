{
 "cells": [
  {
   "cell_type": "code",
   "execution_count": 1,
   "id": "580fc30c",
   "metadata": {},
   "outputs": [],
   "source": [
    "import numpy as np\n",
    "import pandas as pd\n",
    "import urllib.request, urllib.parse,urllib.error\n",
    "from bs4 import BeautifulSoup\n",
    "import time\n",
    "from requests_html import HTMLSession, AsyncHTMLSession\n",
    "import ssl\n",
    "import re\n",
    "import random\n",
    "from selenium import webdriver\n",
    "from bs4 import BeautifulSoup"
   ]
  },
  {
   "cell_type": "code",
   "execution_count": 2,
   "id": "3d5166cb",
   "metadata": {},
   "outputs": [],
   "source": [
    "ctx = ssl.create_default_context()\n",
    "ctx.check_hostname = False\n",
    "ctx.verify_mode = ssl.CERT_NONE"
   ]
  },
  {
   "cell_type": "code",
   "execution_count": 3,
   "id": "9debfa57",
   "metadata": {},
   "outputs": [],
   "source": [
    "# data frame consists of first 100 pages of https://boardgamegeek.com/browse/boardgame\n",
    "# 100 pages where each page has 100 games = 10 000 games to work with\n",
    "# it is for beginning, we can get the rest easily  :) \n",
    "\n",
    "games_list = pd.read_csv(r'C:/Users/Armit/Python/Scripts/Project/games_100_pages.csv', sep = '\\t', encoding='utf-8')"
   ]
  },
  {
   "cell_type": "code",
   "execution_count": 6,
   "id": "2d421522",
   "metadata": {},
   "outputs": [],
   "source": [
    "games_list = games_list[games_list['categories'].isna()]"
   ]
  },
  {
   "cell_type": "code",
   "execution_count": null,
   "id": "5e7fc230",
   "metadata": {},
   "outputs": [],
   "source": [
    "games_list = games_list.drop('Unnamed: 0', axis=1)"
   ]
  },
  {
   "cell_type": "code",
   "execution_count": 4,
   "id": "d69e4c06",
   "metadata": {},
   "outputs": [],
   "source": [
    "games_list['overview_url'] = 'https://boardgamegeek.com' + games_list['url']"
   ]
  },
  {
   "cell_type": "code",
   "execution_count": 5,
   "id": "1e4df24d",
   "metadata": {},
   "outputs": [
    {
     "data": {
      "text/plain": [
       "'https://boardgamegeek.com/boardgame/111105/agents-smersh'"
      ]
     },
     "execution_count": 5,
     "metadata": {},
     "output_type": "execute_result"
    }
   ],
   "source": [
    "games_list['overview_url'][1591]"
   ]
  },
  {
   "cell_type": "code",
   "execution_count": 5,
   "id": "76afb287",
   "metadata": {},
   "outputs": [
    {
     "name": "stderr",
     "output_type": "stream",
     "text": [
      "<ipython-input-5-cabcd76cb407>:1: DeprecationWarning: The default dtype for empty Series will be 'object' instead of 'float64' in a future version. Specify a dtype explicitly to silence this warning.\n",
      "  games_list['categories'] = pd.Series().astype(np.uint8)\n"
     ]
    }
   ],
   "source": [
    "games_list['categories'] = pd.Series().astype(np.uint8)"
   ]
  },
  {
   "cell_type": "code",
   "execution_count": 15,
   "id": "a24af375",
   "metadata": {},
   "outputs": [],
   "source": [
    "games_list[2152:2695].to_csv(r'./games_list_categories2152_2695_.csv', sep='\\t', encoding='utf-8', header='true',index=False)"
   ]
  },
  {
   "cell_type": "code",
   "execution_count": 24,
   "id": "4f1d9c5f",
   "metadata": {},
   "outputs": [],
   "source": [
    "games_list[games_list['categories'].isna() == False].to_csv(r'./games_list_categories_additional.csv', sep='\\t', encoding='utf-8', header='true',index=False)"
   ]
  },
  {
   "cell_type": "code",
   "execution_count": 14,
   "id": "8a4eabff",
   "metadata": {},
   "outputs": [],
   "source": [
    "games_list.reset_index(inplace=True)"
   ]
  },
  {
   "cell_type": "code",
   "execution_count": 15,
   "id": "74f49aef",
   "metadata": {},
   "outputs": [
    {
     "name": "stderr",
     "output_type": "stream",
     "text": [
      "<ipython-input-15-641310459ed5>:17: SettingWithCopyWarning: \n",
      "A value is trying to be set on a copy of a slice from a DataFrame\n",
      "\n",
      "See the caveats in the documentation: https://pandas.pydata.org/pandas-docs/stable/user_guide/indexing.html#returning-a-view-versus-a-copy\n",
      "  games_list['categories'][i] = category\n"
     ]
    }
   ],
   "source": [
    "#2152,3125,1\n",
    "for i in range(len(games_list)):\n",
    "    url = games_list['overview_url'][i]\n",
    "    browser = webdriver.Firefox()\n",
    "    # opening url in browser via selenium\n",
    "    browser.get(url)\n",
    "    # checking if we have beed redirected\n",
    "    soup = BeautifulSoup(browser.page_source)\n",
    "    browser.quit()\n",
    "    #soup = BeautifulSoup(resp, \"lxml\")\n",
    "    tags = soup('a')\n",
    "    category = []\n",
    "    for tag in tags:\n",
    "        if tag.get('class') == ['ng-binding'] and 'boardgamecategory/' in str(tag.get('href')):\n",
    "            #print('Contents:', tag.contents[0])\n",
    "            category.append(tag.contents[0])\n",
    "            games_list['categories'][i] = category"
   ]
  },
  {
   "cell_type": "markdown",
   "id": "ce2f6a8e",
   "metadata": {},
   "source": [
    "### Test and experiments below"
   ]
  },
  {
   "cell_type": "code",
   "execution_count": 6,
   "id": "f8ec9363",
   "metadata": {},
   "outputs": [
    {
     "name": "stdout",
     "output_type": "stream",
     "text": [
      "Adventure\n",
      "Exploration\n",
      "Fantasy\n",
      "Fighting\n",
      "Miniatures\n"
     ]
    }
   ],
   "source": [
    "url = 'https://boardgamegeek.com/boardgame/174430/gloomhaven'\n",
    "browser = webdriver.Firefox()\n",
    "# opening url in browser via selenium\n",
    "browser.get(url)\n",
    "# checking if we have beed redirected\n",
    "soup = BeautifulSoup(browser.page_source)\n",
    "browser.quit()\n",
    "#soup = BeautifulSoup(resp, \"lxml\")\n",
    "tags = soup('a')\n",
    "\n",
    "for tag in tags:\n",
    "    if tag.get('class') == ['ng-binding'] and 'boardgamecategory/' in str(tag.get('href')):\n",
    "       #print('Contents:', tag.contents[0])\n",
    "        print(tag.contents[0])\n",
    "     "
   ]
  },
  {
   "cell_type": "code",
   "execution_count": null,
   "id": "df9eb542",
   "metadata": {},
   "outputs": [
    {
     "name": "stderr",
     "output_type": "stream",
     "text": [
      "<ipython-input-5-7b4a7e12eda8>:14: SettingWithCopyWarning: \n",
      "A value is trying to be set on a copy of a slice from a DataFrame\n",
      "\n",
      "See the caveats in the documentation: https://pandas.pydata.org/pandas-docs/stable/user_guide/indexing.html#returning-a-view-versus-a-copy\n",
      "  games_list['categories'][i] = category\n"
     ]
    }
   ],
   "source": [
    "for i in range(136,len(games_list),1):\n",
    "    url = games_list['overview_url'][i]\n",
    "    asession = AsyncHTMLSession()\n",
    "    r = await asession.get(url)\n",
    "    await r.html.arender(timeout = 8)\n",
    "    resp=r.html.raw_html\n",
    "    soup = BeautifulSoup(resp, \"lxml\")\n",
    "    tags = soup('span')\n",
    "    category = []\n",
    "    for tag in tags:\n",
    "        if tag.get('class') == ['ng-binding'] and 'boardgamecategory/' in str(tag.get('href')):\n",
    "           #print('Contents:', tag.contents[0])\n",
    "            category.append(tag.contents[0])\n",
    "            games_list['categories'][i] = category"
   ]
  },
  {
   "cell_type": "code",
   "execution_count": 11,
   "id": "8fc8ad34",
   "metadata": {},
   "outputs": [
    {
     "name": "stdout",
     "output_type": "stream",
     "text": [
      "TAG: <span class=\"ng-isolate-scope\" item-poll-button=\"playerage\" poll-view=\"results\"> <button class=\"btn btn-link btn-xs\" tooltip-append-to-body=\"true\" tooltip-popup-delay=\"500\" uib-tooltip=\"View poll and results\"> \t\t\t\t\t\t\tCommunity: <span class=\"ng-binding\" ng-bind-html=\"geekitemctrl.geekitem.data.item.polls.playerage|to_trusted\">14+</span> </button> </span>\n",
      "TEXT:  14+\n"
     ]
    }
   ],
   "source": [
    "tags = soup('span')\n",
    "category = []\n",
    "for tag in tags:\n",
    "    if tag.get('class') == ['ng-isolate-scope']: # and 'boardgamecategory/' in str(tag.get('href')):\n",
    "    #if 'boardgamecategory' in tag:\n",
    "        if 'playerage' in str(tag):\n",
    "            print('TAG:', tag)\n",
    "            print('TEXT:', str(tag.get_text()).strip().split(':')[1])\n",
    "        "
   ]
  },
  {
   "cell_type": "code",
   "execution_count": 66,
   "id": "e66785cf",
   "metadata": {},
   "outputs": [],
   "source": [
    "url = 'https://boardgamegeek.com/boardgame/174430/gloomhaven'"
   ]
  },
  {
   "cell_type": "code",
   "execution_count": 67,
   "id": "8f1947f3",
   "metadata": {},
   "outputs": [],
   "source": [
    "asession = AsyncHTMLSession()\n",
    "r = await asession.get(\"https://boardgamegeek.com/boardgame/174430/gloomhaven\")\n",
    "await r.html.arender()\n",
    "resp=r.html.raw_html"
   ]
  },
  {
   "cell_type": "code",
   "execution_count": 69,
   "id": "259a9540",
   "metadata": {},
   "outputs": [
    {
     "name": "stdout",
     "output_type": "stream",
     "text": [
      "Contents: Adventure\n",
      "Contents: Exploration\n",
      "Contents: Fantasy\n",
      "Contents: Fighting\n",
      "Contents: Miniatures\n"
     ]
    }
   ],
   "source": [
    "tags = soup('a')\n",
    "category = []\n",
    "for tag in tags:\n",
    "    if tag.get('class') == ['ng-binding'] and 'boardgamecategory/' in str(tag.get('href')):\n",
    "    #if 'boardgamecategory' in tag:\n",
    "        #print('TAG:', tag)\n",
    "        #game_name.append(tag.next_element)\n",
    "        #game_id.append(tag.get('href', None).split('/')[2])\n",
    "        #game_url.append(tag.get('href', None))\n",
    "               \n",
    "    #print('next element:', tag.next_element)\n",
    "        #print('URL:', tag.get('href', None))\n",
    "        #print('Game_id:', tag.get('href', None).split('/')[2])\n",
    "        \n",
    "        print('Contents:', tag.contents[0])\n",
    "        category.append(tag.contents[0])\n",
    "        #print('Attrs:', tag.attrs)\n",
    "        #print('Class:', tag.get('class'))\n",
    "        #print('href',tag.get('href', None))\n",
    "    #print('Class:', tag.get('title'))"
   ]
  }
 ],
 "metadata": {
  "kernelspec": {
   "display_name": "Python 3",
   "language": "python",
   "name": "python3"
  },
  "language_info": {
   "codemirror_mode": {
    "name": "ipython",
    "version": 3
   },
   "file_extension": ".py",
   "mimetype": "text/x-python",
   "name": "python",
   "nbconvert_exporter": "python",
   "pygments_lexer": "ipython3",
   "version": "3.9.5"
  }
 },
 "nbformat": 4,
 "nbformat_minor": 5
}
